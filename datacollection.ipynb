{
 "cells": [
  {
   "cell_type": "code",
   "execution_count": 9,
   "metadata": {},
   "outputs": [],
   "source": [
    "import shutil\n",
    "from os import walk\n",
    "import random"
   ]
  },
  {
   "cell_type": "code",
   "execution_count": 20,
   "metadata": {},
   "outputs": [
    {
     "name": "stdout",
     "output_type": "stream",
     "text": [
      "2850\n",
      "2850\n"
     ]
    }
   ],
   "source": [
    "mypath = \"/home/xpc/Developer/cs229/imgdata\"\n",
    "\n",
    "index = 0;\n",
    "all_data = [];\n",
    "for (dirpath, dirnames, filenames) in walk(mypath):\n",
    "    #print(dirpath, dirnames, filenames)\n",
    "    #print(\"###\")\n",
    "    \n",
    "    if (dirpath != \"/home/xpc/Developer/cs229/imgdata\" and dirpath != \"/home/xpc/Developer/cs229/customData\"):\n",
    "        for f in filenames:\n",
    "            all_data.append((dirpath+\"/\"+f, index))\n",
    "        index += 1\n",
    "\n",
    "outputpath = \"/home/xpc/Developer/cs229/imgdata/customData\"\n",
    "\n",
    "random.shuffle(all_data)\n",
    "output_index = 0\n",
    "data_labels = []\n",
    "for data in all_data:\n",
    "    shutil.copyfile(data[0], outputpath+\"/{:05d}.png\".format(output_index))\n",
    "    output_index += 1\n",
    "    data_labels.append(data[1])\n",
    "\n",
    "print(len(all_data))\n",
    "print(len(data_labels))\n",
    "with open(mypath+\"/identity_data.txt\", 'w') as label_file:\n",
    "    label_file.write(\"image identity\\n\")\n",
    "    for (dirpath, dirnames, filenames) in walk(outputpath):\n",
    "        #print(filenames)\n",
    "        for i in range(0,len(data_labels)):\n",
    "            label_file.write(\"{:05d}.png {}\\n\".format(i, data_labels[i]))"
   ]
  },
  {
   "cell_type": "code",
   "execution_count": null,
   "metadata": {},
   "outputs": [],
   "source": []
  }
 ],
 "metadata": {
  "kernelspec": {
   "display_name": "Python 3",
   "language": "python",
   "name": "python3"
  },
  "language_info": {
   "codemirror_mode": {
    "name": "ipython",
    "version": 3
   },
   "file_extension": ".py",
   "mimetype": "text/x-python",
   "name": "python",
   "nbconvert_exporter": "python",
   "pygments_lexer": "ipython3",
   "version": "3.5.3"
  }
 },
 "nbformat": 4,
 "nbformat_minor": 2
}
